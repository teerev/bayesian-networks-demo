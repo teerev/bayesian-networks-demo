{
 "cells": [
  {
   "cell_type": "markdown",
   "id": "aa749fcc",
   "metadata": {},
   "source": [
    "# Probabilistic Bayesian inference on used Audis"
   ]
  },
  {
   "cell_type": "markdown",
   "id": "04491187-7b70-489f-bea4-206ed14665e9",
   "metadata": {},
   "source": [
    "## 1. About this notebook"
   ]
  },
  {
   "cell_type": "markdown",
   "id": "17104f5b-f58d-4b2a-b112-05f6729f4c43",
   "metadata": {},
   "source": [
    "This notebook builds a Bayesian network and demonstrates meaningful accuracy predicting some used car data. The workflow roughly breaks down into the following:\n",
    "\n",
    "- Preparation of dataframes from local .csv files downloaded from Kaggle\n",
    "- Preparation and clustering of ordinal variables into categorical data. (Bayesnets treat ordinal variables as categorical)\n",
    "- Manual construction of a DAG, with some consideration for over-/under-fitting\n",
    "- Performance benchmarking on test data over all variables in the DAG"
   ]
  },
  {
   "cell_type": "markdown",
   "id": "e6cab93a-7a0e-4828-9f55-298c30b1e4d5",
   "metadata": {},
   "source": [
    "## 2. A quick rant"
   ]
  },
  {
   "cell_type": "markdown",
   "id": "6876df21-9e01-4ee9-bec9-c1ca048efb99",
   "metadata": {},
   "source": [
    "If you construct a Bayesian network on a directed acyclic graph (DAG) whose structure is found using a structure searching algorithm, you're not doing probabilistic inference, you're doing probabilistic prediction. That's totally fine, by the way. But it's causally blind, and therefore can not account for its output in real world terms. To infer *why* something is probably true, you need to build the DAG based on a real world understanding of *what causes what* so that you can explain the output. That is, using real-world domain knowledge. For example, \"Emma is smart, so this exam was probably difficult **because** she only got a C\". This means there's only one (or zero, depending on the data specification) correct DAG that allows you do make valid probabilistic inferences, even though there are many DAGs whose corresponding Bayesian networks yield accurate probabilistic predictions about your system.\n",
    "\n",
    "To get more serious about the subject of \"*why*\", you need to go further and do counterfactual causal inference. This means saying why something is probably true based on what *would have* otherwise been the case (the counterfactual). This is more advanced than the work in this notebook."
   ]
  },
  {
   "cell_type": "markdown",
   "id": "d66ad37e",
   "metadata": {},
   "source": [
    "## 3. Prepare dataframe"
   ]
  },
  {
   "cell_type": "code",
   "execution_count": 1,
   "id": "5afbce71",
   "metadata": {},
   "outputs": [
    {
     "name": "stderr",
     "output_type": "stream",
     "text": [
      "/home/trev/repos/bayesian-network-concepts/.venv/lib/python3.10/site-packages/tqdm/auto.py:22: TqdmWarning: IProgress not found. Please update jupyter and ipywidgets. See https://ipywidgets.readthedocs.io/en/stable/user_install.html\n",
      "  from .autonotebook import tqdm as notebook_tqdm\n"
     ]
    }
   ],
   "source": [
    "import pandas as pd\n",
    "import numpy as np\n",
    "import sys\n",
    "import os\n",
    "\n",
    "from pgmpy.models import BayesianNetwork\n",
    "from pgmpy.factors.discrete.CPD import TabularCPD\n",
    "from pgmpy.inference import VariableElimination\n",
    "\n",
    "import warnings\n",
    "warnings.filterwarnings(\"ignore\", category=RuntimeWarning)\n",
    "\n",
    "np.set_printoptions(suppress=True)\n",
    "np.set_printoptions(precision=8)\n",
    "pd.set_option('display.max_colwidth', None)\n",
    "pd.set_option('display.max_columns', None)\n",
    "pd.set_option('display.max_rows', 1000)"
   ]
  },
  {
   "cell_type": "code",
   "execution_count": 2,
   "id": "127efd83-14fa-4fe0-bacb-d3cbb40f9366",
   "metadata": {},
   "outputs": [
    {
     "name": "stdout",
     "output_type": "stream",
     "text": [
      "used-car-dataset-ford-and-mercedes.zip: Skipping, found more recently modified local copy (use --force to force download)\n",
      "Archive:  used-car-dataset-ford-and-mercedes.zip\n",
      "  inflating: csv/audi.csv            \n",
      "  inflating: csv/bmw.csv             \n",
      "  inflating: csv/cclass.csv          \n",
      "  inflating: csv/focus.csv           \n",
      "  inflating: csv/ford.csv            \n",
      "  inflating: csv/hyundi.csv          \n",
      "  inflating: csv/merc.csv            \n",
      "  inflating: csv/skoda.csv           \n",
      "  inflating: csv/toyota.csv          \n",
      "  inflating: csv/unclean cclass.csv  \n",
      "  inflating: csv/unclean focus.csv   \n",
      "  inflating: csv/vauxhall.csv        \n",
      "  inflating: csv/vw.csv              \n"
     ]
    }
   ],
   "source": [
    "# download data, unzip and place csv files into directory\n",
    "!kaggle datasets download -d adityadesai13/used-car-dataset-ford-and-mercedes\n",
    "!mkdir csv\n",
    "!unzip -d csv used-car-dataset-ford-and-mercedes.zip\n",
    "!rm used-car-dataset-ford-and-mercedes.zip\n",
    "\n",
    "# focus on audi only for this toy project (code in cells below allows for inclusion of other makes)\n",
    "!find ./csv -name \"*.csv\" -not -name \"audi.csv\" -exec rm {} \\;"
   ]
  },
  {
   "cell_type": "code",
   "execution_count": 3,
   "id": "98935c75-0f1c-4722-9762-4f3fa4dff348",
   "metadata": {},
   "outputs": [],
   "source": [
    "# insert manufacturer names into \"make\" column in all csv files (in this case, one file)\n",
    "path=os.getcwd()+'/csv/'\n",
    "for file in os.listdir(path):\n",
    "    df = pd.read_csv(path+file)\n",
    "    df['make'] = os.path.splitext(file)[0]\n",
    "    df.to_csv(path+file, index=False)"
   ]
  },
  {
   "cell_type": "code",
   "execution_count": 4,
   "id": "68af4ad2-337f-4922-b0c1-2a3eb7ccfacf",
   "metadata": {},
   "outputs": [],
   "source": [
    "# concatenate all files into one dataframe\n",
    "files = ['csv/'+file for file in os.listdir(os.getcwd()+'/csv/')]\n",
    "dataframe = pd.concat([pd.read_csv(f) for f in files ])\n",
    "\n",
    "# convert year column to age in years\n",
    "dataframe['year'] = 2020 - dataframe['year']\n",
    "dataframe.rename(columns={'year': 'age'}, inplace=True)\n",
    "\n",
    "# the make and model are deterministically related, so combine them\n",
    "dataframe['model'] = dataframe['make'] + dataframe['model']\n",
    "dataframe = dataframe.drop('make', axis=1)\n",
    "\n",
    "dataframe = dataframe.reset_index(drop=True)"
   ]
  },
  {
   "cell_type": "code",
   "execution_count": 5,
   "id": "747749e8-8968-4cf1-a09f-d84e67acfeea",
   "metadata": {},
   "outputs": [
    {
     "data": {
      "text/html": [
       "<div>\n",
       "<style scoped>\n",
       "    .dataframe tbody tr th:only-of-type {\n",
       "        vertical-align: middle;\n",
       "    }\n",
       "\n",
       "    .dataframe tbody tr th {\n",
       "        vertical-align: top;\n",
       "    }\n",
       "\n",
       "    .dataframe thead th {\n",
       "        text-align: right;\n",
       "    }\n",
       "</style>\n",
       "<table border=\"1\" class=\"dataframe\">\n",
       "  <thead>\n",
       "    <tr style=\"text-align: right;\">\n",
       "      <th></th>\n",
       "      <th>model</th>\n",
       "      <th>age</th>\n",
       "      <th>price</th>\n",
       "      <th>transmission</th>\n",
       "      <th>mileage</th>\n",
       "      <th>fuelType</th>\n",
       "      <th>tax</th>\n",
       "      <th>mpg</th>\n",
       "      <th>engineSize</th>\n",
       "    </tr>\n",
       "  </thead>\n",
       "  <tbody>\n",
       "    <tr>\n",
       "      <th>0</th>\n",
       "      <td>audi A1</td>\n",
       "      <td>3</td>\n",
       "      <td>12500</td>\n",
       "      <td>Manual</td>\n",
       "      <td>15735</td>\n",
       "      <td>Petrol</td>\n",
       "      <td>150</td>\n",
       "      <td>55.4</td>\n",
       "      <td>1.4</td>\n",
       "    </tr>\n",
       "    <tr>\n",
       "      <th>1</th>\n",
       "      <td>audi A6</td>\n",
       "      <td>4</td>\n",
       "      <td>16500</td>\n",
       "      <td>Automatic</td>\n",
       "      <td>36203</td>\n",
       "      <td>Diesel</td>\n",
       "      <td>20</td>\n",
       "      <td>64.2</td>\n",
       "      <td>2.0</td>\n",
       "    </tr>\n",
       "    <tr>\n",
       "      <th>2</th>\n",
       "      <td>audi A1</td>\n",
       "      <td>4</td>\n",
       "      <td>11000</td>\n",
       "      <td>Manual</td>\n",
       "      <td>29946</td>\n",
       "      <td>Petrol</td>\n",
       "      <td>30</td>\n",
       "      <td>55.4</td>\n",
       "      <td>1.4</td>\n",
       "    </tr>\n",
       "    <tr>\n",
       "      <th>3</th>\n",
       "      <td>audi A4</td>\n",
       "      <td>3</td>\n",
       "      <td>16800</td>\n",
       "      <td>Automatic</td>\n",
       "      <td>25952</td>\n",
       "      <td>Diesel</td>\n",
       "      <td>145</td>\n",
       "      <td>67.3</td>\n",
       "      <td>2.0</td>\n",
       "    </tr>\n",
       "    <tr>\n",
       "      <th>4</th>\n",
       "      <td>audi A3</td>\n",
       "      <td>1</td>\n",
       "      <td>17300</td>\n",
       "      <td>Manual</td>\n",
       "      <td>1998</td>\n",
       "      <td>Petrol</td>\n",
       "      <td>145</td>\n",
       "      <td>49.6</td>\n",
       "      <td>1.0</td>\n",
       "    </tr>\n",
       "    <tr>\n",
       "      <th>...</th>\n",
       "      <td>...</td>\n",
       "      <td>...</td>\n",
       "      <td>...</td>\n",
       "      <td>...</td>\n",
       "      <td>...</td>\n",
       "      <td>...</td>\n",
       "      <td>...</td>\n",
       "      <td>...</td>\n",
       "      <td>...</td>\n",
       "    </tr>\n",
       "    <tr>\n",
       "      <th>10663</th>\n",
       "      <td>audi A3</td>\n",
       "      <td>0</td>\n",
       "      <td>16999</td>\n",
       "      <td>Manual</td>\n",
       "      <td>4018</td>\n",
       "      <td>Petrol</td>\n",
       "      <td>145</td>\n",
       "      <td>49.6</td>\n",
       "      <td>1.0</td>\n",
       "    </tr>\n",
       "    <tr>\n",
       "      <th>10664</th>\n",
       "      <td>audi A3</td>\n",
       "      <td>0</td>\n",
       "      <td>16999</td>\n",
       "      <td>Manual</td>\n",
       "      <td>1978</td>\n",
       "      <td>Petrol</td>\n",
       "      <td>150</td>\n",
       "      <td>49.6</td>\n",
       "      <td>1.0</td>\n",
       "    </tr>\n",
       "    <tr>\n",
       "      <th>10665</th>\n",
       "      <td>audi A3</td>\n",
       "      <td>0</td>\n",
       "      <td>17199</td>\n",
       "      <td>Manual</td>\n",
       "      <td>609</td>\n",
       "      <td>Petrol</td>\n",
       "      <td>150</td>\n",
       "      <td>49.6</td>\n",
       "      <td>1.0</td>\n",
       "    </tr>\n",
       "    <tr>\n",
       "      <th>10666</th>\n",
       "      <td>audi Q3</td>\n",
       "      <td>3</td>\n",
       "      <td>19499</td>\n",
       "      <td>Automatic</td>\n",
       "      <td>8646</td>\n",
       "      <td>Petrol</td>\n",
       "      <td>150</td>\n",
       "      <td>47.9</td>\n",
       "      <td>1.4</td>\n",
       "    </tr>\n",
       "    <tr>\n",
       "      <th>10667</th>\n",
       "      <td>audi Q3</td>\n",
       "      <td>4</td>\n",
       "      <td>15999</td>\n",
       "      <td>Manual</td>\n",
       "      <td>11855</td>\n",
       "      <td>Petrol</td>\n",
       "      <td>150</td>\n",
       "      <td>47.9</td>\n",
       "      <td>1.4</td>\n",
       "    </tr>\n",
       "  </tbody>\n",
       "</table>\n",
       "<p>10668 rows × 9 columns</p>\n",
       "</div>"
      ],
      "text/plain": [
       "         model  age  price transmission  mileage fuelType  tax   mpg  \\\n",
       "0      audi A1    3  12500       Manual    15735   Petrol  150  55.4   \n",
       "1      audi A6    4  16500    Automatic    36203   Diesel   20  64.2   \n",
       "2      audi A1    4  11000       Manual    29946   Petrol   30  55.4   \n",
       "3      audi A4    3  16800    Automatic    25952   Diesel  145  67.3   \n",
       "4      audi A3    1  17300       Manual     1998   Petrol  145  49.6   \n",
       "...        ...  ...    ...          ...      ...      ...  ...   ...   \n",
       "10663  audi A3    0  16999       Manual     4018   Petrol  145  49.6   \n",
       "10664  audi A3    0  16999       Manual     1978   Petrol  150  49.6   \n",
       "10665  audi A3    0  17199       Manual      609   Petrol  150  49.6   \n",
       "10666  audi Q3    3  19499    Automatic     8646   Petrol  150  47.9   \n",
       "10667  audi Q3    4  15999       Manual    11855   Petrol  150  47.9   \n",
       "\n",
       "       engineSize  \n",
       "0             1.4  \n",
       "1             2.0  \n",
       "2             1.4  \n",
       "3             2.0  \n",
       "4             1.0  \n",
       "...           ...  \n",
       "10663         1.0  \n",
       "10664         1.0  \n",
       "10665         1.0  \n",
       "10666         1.4  \n",
       "10667         1.4  \n",
       "\n",
       "[10668 rows x 9 columns]"
      ]
     },
     "execution_count": 5,
     "metadata": {},
     "output_type": "execute_result"
    }
   ],
   "source": [
    "dataframe"
   ]
  },
  {
   "cell_type": "markdown",
   "id": "22212210-e0f2-41ee-9954-633bbc469b1e",
   "metadata": {
    "tags": []
   },
   "source": [
    "## 4. Prepare variables"
   ]
  },
  {
   "cell_type": "markdown",
   "id": "d1b72eba-b268-4997-a61b-49fac02d6206",
   "metadata": {},
   "source": [
    "The ordinal variables need to be converted to categorical variables. This can be cumbersome, so the functions get_cluster_bounds() and get_cut_points() can be used to divide these variables into categories without too much manual segmentation."
   ]
  },
  {
   "cell_type": "code",
   "execution_count": 6,
   "id": "8a9aab00-5c89-4cba-90b3-592465f4ba9e",
   "metadata": {},
   "outputs": [],
   "source": [
    "import kmeans1d\n",
    "\n",
    "def get_cluster_bounds(pandas_series, n):\n",
    "    \n",
    "    \"\"\"\n",
    "    Splits a pandas series containing ordinal data into n groups\n",
    "    Returns Divide a into groups based on 1-d k-means \"clustering\" algorithm.\n",
    "    \"\"\"\n",
    "\n",
    "    # assign integer representing the cluster to each value in the series\n",
    "    cluster_numbers, _ = kmeans1d.cluster(pandas_series, n)\n",
    "    \n",
    "    # create dataframe for filtering by cluster\n",
    "    clusters_df = pd.DataFrame(zip(pandas_series, cluster_numbers), columns=[pandas_series.name, 'cluster'])\n",
    "    \n",
    "    # for each cluster, find upper and lower bounds\n",
    "    cluster_bounds = dict()\n",
    "    for cluster_number in set(cluster_numbers):\n",
    "    \n",
    "        df_ = clusters_df[clusters_df['cluster']==cluster_number]\n",
    "        \n",
    "        cluster_lower_bound = df_[pandas_series.name].min()\n",
    "        cluster_upper_bound = df_[pandas_series.name].max()\n",
    "        \n",
    "        cluster_name = str(df_[pandas_series.name].min()) + '-' +  str(df_[pandas_series.name].max())\n",
    "        \n",
    "        cluster_bounds[cluster_name] = [cluster_lower_bound, cluster_upper_bound]\n",
    "    \n",
    "    return cluster_bounds\n",
    "\n",
    "\n",
    "def get_cut_points(cluster_bounds):\n",
    "\n",
    "    \"\"\"\n",
    "    Splits a dictionary returned by get_cluster_bounds() into cut points.\n",
    "    \"\"\"\n",
    "    \n",
    "    cluster_bounds_list = list(cluster_bounds.values())\n",
    "    \n",
    "    cut_points = [(cluster_bounds_list[i][1] + cluster_bounds_list[i+1][0])/2 for i in range(0, len(cluster_bounds_list)-1)]\n",
    "    cut_points.insert(0, cluster_bounds_list[0][0])\n",
    "    cut_points.insert(len(cut_points), cluster_bounds_list[-1][1])\n",
    "\n",
    "    return cut_points\n"
   ]
  },
  {
   "cell_type": "markdown",
   "id": "ec506a5b-96ec-4430-8a65-c8457a2b56e4",
   "metadata": {},
   "source": [
    "For example, split the tax variable into 5 groups:"
   ]
  },
  {
   "cell_type": "code",
   "execution_count": 7,
   "id": "7579ce1c-bd17-4170-bd27-86069cae9e91",
   "metadata": {},
   "outputs": [
    {
     "data": {
      "text/plain": [
       "{'0-30': [0, 30],\n",
       " '115-165': [115, 165],\n",
       " '190-240': [190, 240],\n",
       " '260-330': [260, 330],\n",
       " '515-580': [515, 580]}"
      ]
     },
     "execution_count": 7,
     "metadata": {},
     "output_type": "execute_result"
    }
   ],
   "source": [
    "get_cluster_bounds(dataframe['tax'], 5)"
   ]
  },
  {
   "cell_type": "markdown",
   "id": "d743430a-6f77-469d-a9d3-1d6cff7dec6b",
   "metadata": {},
   "source": [
    "If you're familiar with UK road tax, you'll know that there are no cars that cost more than £30 and less than £115 to tax, so these groupings make sense.\n",
    "\n",
    "Now we need to choose some cut points to divide up the tax variable. get_cut_points() just crudely picks the midpoints between the groupings:"
   ]
  },
  {
   "cell_type": "code",
   "execution_count": 8,
   "id": "34d25927-5dde-459c-ae80-1774540edbaf",
   "metadata": {},
   "outputs": [
    {
     "data": {
      "text/plain": [
       "[0, 72.5, 177.5, 250.0, 422.5, 580]"
      ]
     },
     "execution_count": 8,
     "metadata": {},
     "output_type": "execute_result"
    }
   ],
   "source": [
    "get_cut_points(get_cluster_bounds(dataframe['tax'], 5))"
   ]
  },
  {
   "cell_type": "markdown",
   "id": "4d656304-0aa1-4a28-92f8-f51f76e4b998",
   "metadata": {},
   "source": [
    "Let's use these functions to define the numerical bins (and their cut points) and give names to the elements of the sample spaces of the resulting categorical variables:"
   ]
  },
  {
   "cell_type": "code",
   "execution_count": 9,
   "id": "c3144634-47bb-474a-8e07-ed781fd83914",
   "metadata": {},
   "outputs": [],
   "source": [
    "# convenience parameter to denote the number of bins into which to split some of the ordinal variables\n",
    "num_bins = 3\n",
    "\n",
    "ordinal_bins = {'price':      get_cut_points(get_cluster_bounds(dataframe['price'], 6)),\n",
    "                'mileage':    get_cut_points(get_cluster_bounds(dataframe['mileage'], num_bins)),\n",
    "                'tax':        get_cut_points(get_cluster_bounds(dataframe['tax'], num_bins)),\n",
    "                'engineSize': get_cut_points(get_cluster_bounds(dataframe['engineSize'], num_bins)),\n",
    "                'mpg':        get_cut_points(get_cluster_bounds(dataframe['mpg'], num_bins)),\n",
    "                'age':        get_cut_points(get_cluster_bounds(dataframe['age'], num_bins)),\n",
    "                }\n",
    "\n",
    "ordinal_categories = {'price':      get_cluster_bounds(dataframe['price'], 6).keys(),\n",
    "                      'mileage':    get_cluster_bounds(dataframe['mileage'], num_bins).keys(),\n",
    "                      'tax':        get_cluster_bounds(dataframe['tax'], num_bins).keys(),\n",
    "                      'engineSize': get_cluster_bounds(dataframe['engineSize'], num_bins).keys(),\n",
    "                      'mpg':        get_cluster_bounds(dataframe['mpg'], num_bins).keys(),\n",
    "                      'age':        get_cluster_bounds(dataframe['age'], num_bins).keys(),\n",
    "                      }"
   ]
  },
  {
   "cell_type": "code",
   "execution_count": 10,
   "id": "38dc62f5-37ce-45c3-aa64-881f430aedba",
   "metadata": {},
   "outputs": [
    {
     "name": "stdout",
     "output_type": "stream",
     "text": [
      "price dict_keys(['1490-15200', '15250-22340', '22365-30400', '30440-43395', '43475-78000', '78990-145000'])\n",
      "mileage dict_keys(['1-22427', '22438-57465', '57525-323000'])\n",
      "tax dict_keys(['0-30', '115-220', '230-580'])\n",
      "engineSize dict_keys(['0.0-1.6', '1.8-2.5', '2.7-6.3'])\n",
      "mpg dict_keys(['18.9-44.8', '45.6-60.1', '61.4-188.3'])\n",
      "age dict_keys(['0-2', '3-5', '6-23'])\n"
     ]
    }
   ],
   "source": [
    "# inspect the groupings that result from the choice of bins\n",
    "for key, value in ordinal_categories.items():\n",
    "    print(key, value)"
   ]
  },
  {
   "cell_type": "markdown",
   "id": "8c782bee-275d-41e0-8d41-c307f1187299",
   "metadata": {},
   "source": [
    "Now use pd.cut() to apply the ordinal ---> categorical changes into new copy of the source dataframe:"
   ]
  },
  {
   "cell_type": "code",
   "execution_count": 11,
   "id": "7f085941-c5f7-45cb-8e68-8be6bf3423cb",
   "metadata": {},
   "outputs": [],
   "source": [
    "df = dataframe.copy(deep=True)\n",
    "\n",
    "# convert ordinal variables to binned categories in dataframe\n",
    "for node in ordinal_categories.keys():\n",
    "    df[node] = pd.cut(df[node], ordinal_bins[node], labels=ordinal_categories[node])\n",
    "\n",
    "df = df[sorted(df.columns)]\n",
    "df = df.dropna()\n",
    "df = df.astype('category')"
   ]
  },
  {
   "cell_type": "code",
   "execution_count": 12,
   "id": "42add8e7-6a99-406f-a820-b96b7bffb647",
   "metadata": {},
   "outputs": [
    {
     "data": {
      "text/html": [
       "<div>\n",
       "<style scoped>\n",
       "    .dataframe tbody tr th:only-of-type {\n",
       "        vertical-align: middle;\n",
       "    }\n",
       "\n",
       "    .dataframe tbody tr th {\n",
       "        vertical-align: top;\n",
       "    }\n",
       "\n",
       "    .dataframe thead th {\n",
       "        text-align: right;\n",
       "    }\n",
       "</style>\n",
       "<table border=\"1\" class=\"dataframe\">\n",
       "  <thead>\n",
       "    <tr style=\"text-align: right;\">\n",
       "      <th></th>\n",
       "      <th>age</th>\n",
       "      <th>engineSize</th>\n",
       "      <th>fuelType</th>\n",
       "      <th>mileage</th>\n",
       "      <th>model</th>\n",
       "      <th>mpg</th>\n",
       "      <th>price</th>\n",
       "      <th>tax</th>\n",
       "      <th>transmission</th>\n",
       "    </tr>\n",
       "  </thead>\n",
       "  <tbody>\n",
       "    <tr>\n",
       "      <th>0</th>\n",
       "      <td>3-5</td>\n",
       "      <td>0.0-1.6</td>\n",
       "      <td>Petrol</td>\n",
       "      <td>1-22427</td>\n",
       "      <td>audi A1</td>\n",
       "      <td>45.6-60.1</td>\n",
       "      <td>1490-15200</td>\n",
       "      <td>115-220</td>\n",
       "      <td>Manual</td>\n",
       "    </tr>\n",
       "    <tr>\n",
       "      <th>1</th>\n",
       "      <td>3-5</td>\n",
       "      <td>1.8-2.5</td>\n",
       "      <td>Diesel</td>\n",
       "      <td>22438-57465</td>\n",
       "      <td>audi A6</td>\n",
       "      <td>61.4-188.3</td>\n",
       "      <td>15250-22340</td>\n",
       "      <td>0-30</td>\n",
       "      <td>Automatic</td>\n",
       "    </tr>\n",
       "    <tr>\n",
       "      <th>2</th>\n",
       "      <td>3-5</td>\n",
       "      <td>0.0-1.6</td>\n",
       "      <td>Petrol</td>\n",
       "      <td>22438-57465</td>\n",
       "      <td>audi A1</td>\n",
       "      <td>45.6-60.1</td>\n",
       "      <td>1490-15200</td>\n",
       "      <td>0-30</td>\n",
       "      <td>Manual</td>\n",
       "    </tr>\n",
       "    <tr>\n",
       "      <th>3</th>\n",
       "      <td>3-5</td>\n",
       "      <td>1.8-2.5</td>\n",
       "      <td>Diesel</td>\n",
       "      <td>22438-57465</td>\n",
       "      <td>audi A4</td>\n",
       "      <td>61.4-188.3</td>\n",
       "      <td>15250-22340</td>\n",
       "      <td>115-220</td>\n",
       "      <td>Automatic</td>\n",
       "    </tr>\n",
       "    <tr>\n",
       "      <th>4</th>\n",
       "      <td>0-2</td>\n",
       "      <td>0.0-1.6</td>\n",
       "      <td>Petrol</td>\n",
       "      <td>1-22427</td>\n",
       "      <td>audi A3</td>\n",
       "      <td>45.6-60.1</td>\n",
       "      <td>15250-22340</td>\n",
       "      <td>115-220</td>\n",
       "      <td>Manual</td>\n",
       "    </tr>\n",
       "    <tr>\n",
       "      <th>...</th>\n",
       "      <td>...</td>\n",
       "      <td>...</td>\n",
       "      <td>...</td>\n",
       "      <td>...</td>\n",
       "      <td>...</td>\n",
       "      <td>...</td>\n",
       "      <td>...</td>\n",
       "      <td>...</td>\n",
       "      <td>...</td>\n",
       "    </tr>\n",
       "    <tr>\n",
       "      <th>10660</th>\n",
       "      <td>6-23</td>\n",
       "      <td>2.7-6.3</td>\n",
       "      <td>Diesel</td>\n",
       "      <td>57525-323000</td>\n",
       "      <td>audi A4</td>\n",
       "      <td>18.9-44.8</td>\n",
       "      <td>1490-15200</td>\n",
       "      <td>230-580</td>\n",
       "      <td>Automatic</td>\n",
       "    </tr>\n",
       "    <tr>\n",
       "      <th>10661</th>\n",
       "      <td>6-23</td>\n",
       "      <td>1.8-2.5</td>\n",
       "      <td>Diesel</td>\n",
       "      <td>57525-323000</td>\n",
       "      <td>audi A4</td>\n",
       "      <td>45.6-60.1</td>\n",
       "      <td>1490-15200</td>\n",
       "      <td>115-220</td>\n",
       "      <td>Manual</td>\n",
       "    </tr>\n",
       "    <tr>\n",
       "      <th>10662</th>\n",
       "      <td>6-23</td>\n",
       "      <td>0.0-1.6</td>\n",
       "      <td>Petrol</td>\n",
       "      <td>22438-57465</td>\n",
       "      <td>audi A3</td>\n",
       "      <td>45.6-60.1</td>\n",
       "      <td>1490-15200</td>\n",
       "      <td>115-220</td>\n",
       "      <td>Manual</td>\n",
       "    </tr>\n",
       "    <tr>\n",
       "      <th>10666</th>\n",
       "      <td>3-5</td>\n",
       "      <td>0.0-1.6</td>\n",
       "      <td>Petrol</td>\n",
       "      <td>1-22427</td>\n",
       "      <td>audi Q3</td>\n",
       "      <td>45.6-60.1</td>\n",
       "      <td>15250-22340</td>\n",
       "      <td>115-220</td>\n",
       "      <td>Automatic</td>\n",
       "    </tr>\n",
       "    <tr>\n",
       "      <th>10667</th>\n",
       "      <td>3-5</td>\n",
       "      <td>0.0-1.6</td>\n",
       "      <td>Petrol</td>\n",
       "      <td>1-22427</td>\n",
       "      <td>audi Q3</td>\n",
       "      <td>45.6-60.1</td>\n",
       "      <td>15250-22340</td>\n",
       "      <td>115-220</td>\n",
       "      <td>Manual</td>\n",
       "    </tr>\n",
       "  </tbody>\n",
       "</table>\n",
       "<p>9387 rows × 9 columns</p>\n",
       "</div>"
      ],
      "text/plain": [
       "        age engineSize fuelType       mileage    model         mpg  \\\n",
       "0       3-5    0.0-1.6   Petrol       1-22427  audi A1   45.6-60.1   \n",
       "1       3-5    1.8-2.5   Diesel   22438-57465  audi A6  61.4-188.3   \n",
       "2       3-5    0.0-1.6   Petrol   22438-57465  audi A1   45.6-60.1   \n",
       "3       3-5    1.8-2.5   Diesel   22438-57465  audi A4  61.4-188.3   \n",
       "4       0-2    0.0-1.6   Petrol       1-22427  audi A3   45.6-60.1   \n",
       "...     ...        ...      ...           ...      ...         ...   \n",
       "10660  6-23    2.7-6.3   Diesel  57525-323000  audi A4   18.9-44.8   \n",
       "10661  6-23    1.8-2.5   Diesel  57525-323000  audi A4   45.6-60.1   \n",
       "10662  6-23    0.0-1.6   Petrol   22438-57465  audi A3   45.6-60.1   \n",
       "10666   3-5    0.0-1.6   Petrol       1-22427  audi Q3   45.6-60.1   \n",
       "10667   3-5    0.0-1.6   Petrol       1-22427  audi Q3   45.6-60.1   \n",
       "\n",
       "             price      tax transmission  \n",
       "0       1490-15200  115-220       Manual  \n",
       "1      15250-22340     0-30    Automatic  \n",
       "2       1490-15200     0-30       Manual  \n",
       "3      15250-22340  115-220    Automatic  \n",
       "4      15250-22340  115-220       Manual  \n",
       "...            ...      ...          ...  \n",
       "10660   1490-15200  230-580    Automatic  \n",
       "10661   1490-15200  115-220       Manual  \n",
       "10662   1490-15200  115-220       Manual  \n",
       "10666  15250-22340  115-220    Automatic  \n",
       "10667  15250-22340  115-220       Manual  \n",
       "\n",
       "[9387 rows x 9 columns]"
      ]
     },
     "execution_count": 12,
     "metadata": {},
     "output_type": "execute_result"
    }
   ],
   "source": [
    "df"
   ]
  },
  {
   "cell_type": "markdown",
   "id": "8d368fec-418b-4a3e-8be4-7d5053275742",
   "metadata": {},
   "source": [
    "It's a good idea to define the sample spaces of each variable independently of the dataframe itself. This is true for two important reasons:\n",
    "\n",
    "- because a given dataframe pulled from a SQL database won't necessarily contain all elements of each variable's sample space. (e.g. you may have data on dice rolls, but no 5's appear) \n",
    "- the source dataframe will be split into training and test sets later, and there's no reason to assume generally that the variables' samples spaces will be fully spanned in these test/training sets.\n",
    "\n",
    "Since this workflow is a toy project, I will just define the sample spaces now by taking the unique values in the source dataframe. These definitions will be used to ensure the sample spaces are properly defined in the model building / training stage below."
   ]
  },
  {
   "cell_type": "code",
   "execution_count": 13,
   "id": "2b3dba78-b5aa-48cc-be63-5ea85795aece",
   "metadata": {},
   "outputs": [],
   "source": [
    "# define variable sample spaces\n",
    "sample_spaces = {variable:sorted(df[variable].unique().dropna()) for variable in df.columns}"
   ]
  },
  {
   "cell_type": "markdown",
   "id": "9a6dea8c-57fe-4bf9-953d-8c9a67b95926",
   "metadata": {
    "tags": []
   },
   "source": [
    "## 5. Prepare directed acyclic graph (DAG)"
   ]
  },
  {
   "cell_type": "markdown",
   "id": "8366a784-2f46-4a92-8e1d-ac422b4b7bd1",
   "metadata": {},
   "source": [
    "I chose used car data because it's a topic I know (just about...) enough about to be able to construct the DAG myself from my real-world knowledge. Each edge is accompanied by a comment explaining the rationale."
   ]
  },
  {
   "cell_type": "code",
   "execution_count": 14,
   "id": "c6eaf48e",
   "metadata": {},
   "outputs": [
    {
     "data": {
      "image/png": "[encoded data removed]",
      "text/plain": [
       "<Figure size 432x288 with 1 Axes>"
      ]
     },
     "metadata": {
      "needs_background": "light"
     },
     "output_type": "display_data"
    }
   ],
   "source": [
    "import pygraphviz as pgv\n",
    "import matplotlib.image as mpimg\n",
    "import matplotlib.pyplot as plt\n",
    "\n",
    "dag = pgv.AGraph(directed=True)\n",
    "\n",
    "for node in df.columns:\n",
    "    dag.add_node(node)\n",
    "\n",
    "dag.add_edge('age', 'price')  # \"newer cars cost more\"\n",
    "dag.add_edge('mileage', 'price')  # \"lower mileage cars cost more\"\n",
    "dag.add_edge('model', 'fuelType')  # \"certain car makers are better at making efficient engines\"\n",
    "dag.add_edge('engineSize', 'mpg')  # \"bigger engines burn more fuel\"\n",
    "dag.add_edge('engineSize', 'price') # \"bigger engine cars are faster, more desirable, and more expensive\"\n",
    "dag.add_edge('mpg', 'tax')  # \"gas guzzlers emit more CO2 and incur greater road tax\"\n",
    "dag.add_edge('fuelType', 'mpg') # \"diesel tends to be more efficient than petrol\"\n",
    "dag.add_edge('model', 'price')  # \"certain brands carry a price premium\"\n",
    "dag.add_edge('model', 'transmission') # \"certain brands tend to make more autos e.g. Mercedes\"\n",
    "\n",
    "dag.layout(prog='dot')\n",
    "dag.draw('dag.png')\n",
    "img = mpimg.imread('dag.png')\n",
    "\n",
    "plt.rcParams[\"figure.figsize\"] = (15, 15)\n",
    "plt.imshow(img)\n",
    "plt.show()"
   ]
  },
  {
   "cell_type": "markdown",
   "id": "4e510381-1afc-4b2a-bde1-3e9662832837",
   "metadata": {},
   "source": [
    "The graph structure is accessible via the nodes() and edges() methods:"
   ]
  },
  {
   "cell_type": "code",
   "execution_count": 15,
   "id": "23c8bd22-20d7-4ce7-af9d-5d4fcee491fa",
   "metadata": {},
   "outputs": [
    {
     "data": {
      "text/plain": [
       "['age',\n",
       " 'price',\n",
       " 'engineSize',\n",
       " 'mpg',\n",
       " 'tax',\n",
       " 'fuelType',\n",
       " 'mileage',\n",
       " 'model',\n",
       " 'transmission']"
      ]
     },
     "execution_count": 15,
     "metadata": {},
     "output_type": "execute_result"
    }
   ],
   "source": [
    "dag.nodes()"
   ]
  },
  {
   "cell_type": "code",
   "execution_count": 16,
   "id": "ca17ba6c-9f92-4048-9e74-e9ef7495be7f",
   "metadata": {},
   "outputs": [
    {
     "data": {
      "text/plain": [
       "[('age', 'price'),\n",
       " ('engineSize', 'price'),\n",
       " ('engineSize', 'mpg'),\n",
       " ('mpg', 'tax'),\n",
       " ('fuelType', 'mpg'),\n",
       " ('mileage', 'price'),\n",
       " ('model', 'price'),\n",
       " ('model', 'fuelType'),\n",
       " ('model', 'transmission')]"
      ]
     },
     "execution_count": 16,
     "metadata": {},
     "output_type": "execute_result"
    }
   ],
   "source": [
    "dag.edges()"
   ]
  },
  {
   "cell_type": "markdown",
   "id": "7e50fa12-68c9-4cd3-96cc-7f90e0564b9b",
   "metadata": {},
   "source": [
    "## 6. Prepare training / test data"
   ]
  },
  {
   "cell_type": "markdown",
   "id": "f7709396-e259-459d-9b76-21c4119db5ed",
   "metadata": {},
   "source": [
    "Split the dataframe into training and test sets:"
   ]
  },
  {
   "cell_type": "code",
   "execution_count": 17,
   "id": "2bc2b0f2-a32f-4cb7-b1a8-c810e2e50f50",
   "metadata": {},
   "outputs": [],
   "source": [
    "train=df.sample(frac=0.8)\n",
    "test=df.drop(train.index)\n",
    "\n",
    "train = train.reset_index(drop=True)\n",
    "test = test.reset_index(drop=True)"
   ]
  },
  {
   "cell_type": "code",
   "execution_count": 18,
   "id": "ddeba100-84b7-46b7-882c-d9504671537a",
   "metadata": {},
   "outputs": [
    {
     "data": {
      "text/plain": [
       "7510"
      ]
     },
     "execution_count": 18,
     "metadata": {},
     "output_type": "execute_result"
    }
   ],
   "source": [
    "len(train)"
   ]
  },
  {
   "cell_type": "code",
   "execution_count": 19,
   "id": "4b63295d-f487-4787-bad8-e2d6f3424fc6",
   "metadata": {},
   "outputs": [
    {
     "data": {
      "text/plain": [
       "1877"
      ]
     },
     "execution_count": 19,
     "metadata": {},
     "output_type": "execute_result"
    }
   ],
   "source": [
    "len(test)"
   ]
  },
  {
   "cell_type": "markdown",
   "id": "5058ea0f-0288-42b3-8a71-b716057abae6",
   "metadata": {},
   "source": [
    "As discussed at the end of section 4, the training and test dataframes will not necessarily contain all elements from all variables' sample spaces, so it's worth checking:"
   ]
  },
  {
   "cell_type": "code",
   "execution_count": 20,
   "id": "156e192e-82bf-4937-b01a-1c3455ffb676",
   "metadata": {},
   "outputs": [
    {
     "data": {
      "text/plain": [
       "age             True\n",
       "engineSize      True\n",
       "fuelType        True\n",
       "mileage         True\n",
       "model           True\n",
       "mpg             True\n",
       "price           True\n",
       "tax             True\n",
       "transmission    True\n",
       "dtype: bool"
      ]
     },
     "execution_count": 20,
     "metadata": {},
     "output_type": "execute_result"
    }
   ],
   "source": [
    "train.nunique() == df.nunique()"
   ]
  },
  {
   "cell_type": "code",
   "execution_count": 21,
   "id": "831de6f9-0a49-41f3-972e-e07ccbffb12a",
   "metadata": {},
   "outputs": [
    {
     "data": {
      "text/plain": [
       "age              True\n",
       "engineSize       True\n",
       "fuelType        False\n",
       "mileage          True\n",
       "model           False\n",
       "mpg              True\n",
       "price           False\n",
       "tax              True\n",
       "transmission     True\n",
       "dtype: bool"
      ]
     },
     "execution_count": 21,
     "metadata": {},
     "output_type": "execute_result"
    }
   ],
   "source": [
    "test.nunique() == df.nunique()"
   ]
  },
  {
   "cell_type": "markdown",
   "id": "eebf4b03-a367-48de-a479-382e14bbd966",
   "metadata": {},
   "source": [
    "## 7. Prepare / train model"
   ]
  },
  {
   "cell_type": "markdown",
   "id": "61e727bd-343d-4759-8ec9-d7adc624f124",
   "metadata": {},
   "source": [
    "Now let's train the pgmpy Bayesian network model using the training dataframe:"
   ]
  },
  {
   "cell_type": "code",
   "execution_count": 22,
   "id": "60ac1040-c625-4fa9-9967-d50794010ca1",
   "metadata": {},
   "outputs": [],
   "source": [
    "model = BayesianNetwork(dag.edges())\n",
    "\n",
    "# train model with properly defined sample sample_spaces\n",
    "model.fit(train, state_names=sample_spaces) \n",
    "model.check_model()\n",
    "\n",
    "# class for updating marginals after evidence insertion\n",
    "infer = VariableElimination(model)"
   ]
  },
  {
   "cell_type": "markdown",
   "id": "67405122-0b29-41ed-93cf-ef45c748f88e",
   "metadata": {},
   "source": [
    "## 8. Model performance"
   ]
  },
  {
   "cell_type": "markdown",
   "id": "85903f6b-3863-4b69-b976-868632034b39",
   "metadata": {},
   "source": [
    "Now let's test the model performance on the test data. There's no explicit need to treat any particular node in a Bayesnet as a target variable. Thus, for this workflow, I'm just going to loop over all variables in the DAG and treat them as the target variable one-by-one. So for each target variable, predict its value by inserting the values of the other entries in that row as evidence, and repeat for every row in the test dataframe. The basic requirement is that the resulting classification performance on the whole test set shows accuracy that exceeds the baseline \"pure chance\" accuracy, i.e. 1 / (cardinality of target variable)."
   ]
  },
  {
   "cell_type": "code",
   "execution_count": 23,
   "id": "0616ce11-3327-4bc3-ab64-9fdbd991761e",
   "metadata": {},
   "outputs": [
    {
     "name": "stdout",
     "output_type": "stream",
     "text": [
      "predictions for age [=================== ] 99%\n",
      "predictions for engineSize [=================== ] 99%\n",
      "predictions for fuelType [=================== ] 99%\n",
      "predictions for mileage [=================== ] 99%\n",
      "predictions for model [=================== ] 99%\n",
      "predictions for mpg [=================== ] 99%\n",
      "predictions for price [=================== ] 99%\n",
      "predictions for tax [=================== ] 99%\n",
      "predictions for transmission [=================== ] 99%\n"
     ]
    }
   ],
   "source": [
    "metrics = pd.DataFrame(columns=['target', 'num_predictions', 'accuracy', 'baseline_accuracy'])\n",
    "\n",
    "# for all nodes in the DAG...\n",
    "for target in df.columns:\n",
    "    \n",
    "    # create the confusion matrix for this particular target variable \n",
    "    confusion_matrix = pd.DataFrame(0, index=sample_spaces[target], columns=sample_spaces[target])\n",
    "    \n",
    "    num_predictions=0\n",
    "    # loop over all rows in the test set and predict the current target variable value\n",
    "    for idx, row in test.iterrows():\n",
    "        num_predictions+=1\n",
    "    \n",
    "        #evidence_vars = row[row.index.isin(markov_blanket)]\n",
    "        evidence_vars = row[row.index.isin(test.columns.drop(target))]\n",
    "\n",
    "        # compile the evidence values for this row\n",
    "        evidence_for_this_row = dict(zip(evidence_vars.index, evidence_vars.values))\n",
    "        \n",
    "        # predict the target variable in this particular row using the pgmpy model\n",
    "        prediction = infer.map_query(variables=[target],\n",
    "                                           evidence=evidence_for_this_row,\n",
    "                                           show_progress=False)[target]\n",
    "        \n",
    "        # actual value of target variable in this row\n",
    "        reality = row[target]    \n",
    "       \n",
    "        confusion_matrix.loc[reality, prediction] += 1\n",
    "        \n",
    "        # calculate accuracy metrics and populate metrics dataframe\n",
    "        accuracy = np.diag(confusion_matrix).sum() / confusion_matrix.sum().sum()\n",
    "        baseline_accuracy = 1/len(sample_spaces[target])\n",
    "        metrics.loc[len(metrics)] = [target, num_predictions, accuracy, baseline_accuracy]\n",
    "        \n",
    "        # progress bar\n",
    "        j=idx/len(test)\n",
    "        sys.stdout.write('\\r')\n",
    "        sys.stdout.write(f\"predictions for {target} [%-20s] %d%%\" % ('='*int(20*j), 100*j))\n",
    "    sys.stdout.write(\"\\n\")"
   ]
  },
  {
   "cell_type": "markdown",
   "id": "6841ef0e-9e89-42bb-8cc5-5446fb3859e3",
   "metadata": {},
   "source": [
    "## 9. Plot performance"
   ]
  },
  {
   "cell_type": "code",
   "execution_count": 24,
   "id": "913587a2-12d6-4569-b67c-6780065f199d",
   "metadata": {
    "tags": []
   },
   "outputs": [
    {
     "data": {
      "image/png": "[encoded data removed]",
      "text/plain": [
       "<Figure size 720x720 with 9 Axes>"
      ]
     },
     "metadata": {
      "needs_background": "light"
     },
     "output_type": "display_data"
    }
   ],
   "source": [
    "plt.rcParams[\"figure.figsize\"] = [10,10]\n",
    "fig, ax = plt.subplots(3,3)\n",
    "\n",
    "plot_idx = {'price': (0,0),\n",
    "            'mileage': (0,1),\n",
    "            'tax': (0,2),\n",
    "            'engineSize': (1,0),\n",
    "            'mpg': (1,1),\n",
    "            'age': (1,2),\n",
    "            'model': (2,0),\n",
    "            'transmission': (2,1),\n",
    "            'fuelType': (2,2),\n",
    "           }\n",
    "\n",
    "for variable, index in plot_idx.items():\n",
    "    \n",
    "    ax[index].set_title(variable)\n",
    "    \n",
    "    ax[index].plot(metrics[metrics['target'] == variable]['num_predictions'],\n",
    "                   metrics[metrics['target'] == variable]['accuracy'],\n",
    "                   c='red',\n",
    "                   label='accuracy',\n",
    "                  )\n",
    "    \n",
    "    ax[index].plot(metrics[metrics['target'] == variable]['num_predictions'],\n",
    "                   metrics[metrics['target'] == variable]['baseline_accuracy'],\n",
    "                   c='blue',\n",
    "                   label='baseline_accuracy',\n",
    "                  )\n",
    "    \n",
    "    ax[index].set_xlabel('num_predictions')\n",
    "    ax[index].set_ylabel('accuracy')\n",
    "    \n",
    "    ax[index].legend()\n",
    "\n",
    "plt.tight_layout()"
   ]
  },
  {
   "cell_type": "markdown",
   "id": "42530714-7745-4c19-b269-dc54f50e7ed8",
   "metadata": {},
   "source": [
    "While the performance is not spectacular, it's clearly above the accuracy you'd expect from pure chance, demonstrating the basic point that Bayesnets display artificial intelligence."
   ]
  }
 ],
 "metadata": {
  "environment": {
   "name": "common-cpu.m75",
   "type": "gcloud",
   "uri": "gcr.io/deeplearning-platform-release/base-cpu:m75"
  },
  "kernelspec": {
   "display_name": "Python 3 (ipykernel)",
   "language": "python",
   "name": "python3"
  },
  "language_info": {
   "codemirror_mode": {
    "name": "ipython",
    "version": 3
   },
   "file_extension": ".py",
   "mimetype": "text/x-python",
   "name": "python",
   "nbconvert_exporter": "python",
   "pygments_lexer": "ipython3",
   "version": "3.10.4"
  }
 },
 "nbformat": 4,
 "nbformat_minor": 5
}
